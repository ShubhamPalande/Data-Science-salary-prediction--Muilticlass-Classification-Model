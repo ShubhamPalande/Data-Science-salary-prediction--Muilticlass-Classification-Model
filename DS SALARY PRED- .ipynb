{
 "cells": [
  {
   "cell_type": "markdown",
   "metadata": {},
   "source": [
    "Data scientist is the sexiest job in the world. How many times have you heard that? Analytics India Annual Salary Study which aims to understand a wide range of trends data science says that the median analytics salary in India for the year 2017 is INR 12.7 Lakhs across all experience level and skill sets. So given the job description and other key information can you predict the range of salary of the job posting?"
   ]
  },
  {
   "cell_type": "markdown",
   "metadata": {},
   "source": [
    "What kind of factors influence the salary of a data scientist? The study also says that in the world of analytics, Mumbai is the highest paymaster at almost 13.3 Lakhs per annum, followed by Bengaluru at 12.5 Lakhs. The industry of the data scientist can also influence the salary. Telecom industry pays the highest median salaries to its analytics professionals at 18.6 Lakhs. What are you waiting for, solve the problem by predicting how much a data scientist or analytics professional will be paid by analysing the data given. Bonus Tip: You can analyse the data and get key insights for your career as well.\n",
    "\n",
    "The best data scientists and machine learning engineers will be given awesome prizes at the end of hackathon. Share this hackathon with a colleague who may be interested in mining the dataset for insights and make great predictions.\n",
    "\n",
    "# Data\n",
    "\n",
    "The dataset is based on salary and job postings in India across the internet. The train and the test data consists of attributes mentioned below. The rows of train dataset has rich amount of information regarding the job posting such as name of the designation and key skills required for the job.\n",
    "The training data and test data comprise of 19802 samples and of 6601 samples each. This is a dataset which has been collected over some time to gather relevant analytics jobs posting over the years.\n",
    "\n",
    "# Features\n",
    "\n",
    "1. Name of the company (Encoded)\n",
    "2. Years of experience\n",
    "3. Job description\n",
    "4. Job designation\n",
    "5. Job Type\n",
    "6. Key skills\n",
    "7. Location\n",
    "8. Salary in Rupees Lakhs(To be predicted)\n",
    "\n",
    "# Problem Statement\n",
    "Based on the given attributes and salary information, build a robust machine learning model that predicts the salary range of the salary post."
   ]
  },
  {
   "cell_type": "code",
   "execution_count": 1,
   "metadata": {},
   "outputs": [],
   "source": [
    "import pandas as pd\n",
    "import numpy as np\n",
    "import matplotlib.pylab as plt"
   ]
  },
  {
   "cell_type": "markdown",
   "metadata": {},
   "source": [
    "# Reading the Train and test datasets"
   ]
  },
  {
   "cell_type": "code",
   "execution_count": 2,
   "metadata": {},
   "outputs": [],
   "source": [
    "df= pd.read_csv(\"TrainDataset.csv\")\n",
    "dft= pd.read_csv(\"TestDataset.csv\")"
   ]
  },
  {
   "cell_type": "code",
   "execution_count": 3,
   "metadata": {},
   "outputs": [
    {
     "data": {
      "text/html": [
       "<div>\n",
       "<style scoped>\n",
       "    .dataframe tbody tr th:only-of-type {\n",
       "        vertical-align: middle;\n",
       "    }\n",
       "\n",
       "    .dataframe tbody tr th {\n",
       "        vertical-align: top;\n",
       "    }\n",
       "\n",
       "    .dataframe thead th {\n",
       "        text-align: right;\n",
       "    }\n",
       "</style>\n",
       "<table border=\"1\" class=\"dataframe\">\n",
       "  <thead>\n",
       "    <tr style=\"text-align: right;\">\n",
       "      <th></th>\n",
       "      <th>Unnamed: 0</th>\n",
       "      <th>experience</th>\n",
       "      <th>job_description</th>\n",
       "      <th>job_desig</th>\n",
       "      <th>job_type</th>\n",
       "      <th>key_skills</th>\n",
       "      <th>location</th>\n",
       "      <th>salary</th>\n",
       "      <th>company_name_encoded</th>\n",
       "    </tr>\n",
       "  </thead>\n",
       "  <tbody>\n",
       "    <tr>\n",
       "      <th>0</th>\n",
       "      <td>17516</td>\n",
       "      <td>4-8 yrs</td>\n",
       "      <td>Experience of over 4 years in Analytics domain...</td>\n",
       "      <td>HR Talent Analytics &amp; Insights Senior Analyst</td>\n",
       "      <td>Analytics</td>\n",
       "      <td>Consulting, Business process, Outsourcing, Min...</td>\n",
       "      <td>Gurgaon</td>\n",
       "      <td>10to15</td>\n",
       "      <td>191</td>\n",
       "    </tr>\n",
       "    <tr>\n",
       "      <th>1</th>\n",
       "      <td>9949</td>\n",
       "      <td>4-8 yrs</td>\n",
       "      <td>Exploit and Vulnerability Researchers with the...</td>\n",
       "      <td>Sr. Exploit and Vulnerability Researchers</td>\n",
       "      <td>NaN</td>\n",
       "      <td>research analysis, machine learning, software ...</td>\n",
       "      <td>Bengaluru, Pune</td>\n",
       "      <td>15to25</td>\n",
       "      <td>520</td>\n",
       "    </tr>\n",
       "    <tr>\n",
       "      <th>2</th>\n",
       "      <td>10225</td>\n",
       "      <td>2-5 yrs</td>\n",
       "      <td>Note: Candidate with knowledge of Clevertap wi...</td>\n",
       "      <td>Sr. Marketing Executive Opening @ Akbar Travel...</td>\n",
       "      <td>NaN</td>\n",
       "      <td>marketing strategy, sales, market research, ca...</td>\n",
       "      <td>Mumbai(Mumbadevi Area)</td>\n",
       "      <td>3to6</td>\n",
       "      <td>289</td>\n",
       "    </tr>\n",
       "    <tr>\n",
       "      <th>3</th>\n",
       "      <td>9893</td>\n",
       "      <td>2-7 yrs</td>\n",
       "      <td>NaN</td>\n",
       "      <td>Financial Planning &amp; Analysis -- Bangalore</td>\n",
       "      <td>NaN</td>\n",
       "      <td>Financial Planning, Finance</td>\n",
       "      <td>Bengaluru</td>\n",
       "      <td>6to10</td>\n",
       "      <td>4467</td>\n",
       "    </tr>\n",
       "    <tr>\n",
       "      <th>4</th>\n",
       "      <td>11848</td>\n",
       "      <td>3-8 yrs</td>\n",
       "      <td>Need candidates with experience in Natural lan...</td>\n",
       "      <td>Con / AM - Data Scientist</td>\n",
       "      <td>Analytics</td>\n",
       "      <td>SAS, Statistical Modeling, SQL, Business Analy...</td>\n",
       "      <td>Bengaluru</td>\n",
       "      <td>10to15</td>\n",
       "      <td>3383</td>\n",
       "    </tr>\n",
       "  </tbody>\n",
       "</table>\n",
       "</div>"
      ],
      "text/plain": [
       "   Unnamed: 0 experience                                    job_description  \\\n",
       "0       17516    4-8 yrs  Experience of over 4 years in Analytics domain...   \n",
       "1        9949    4-8 yrs  Exploit and Vulnerability Researchers with the...   \n",
       "2       10225    2-5 yrs  Note: Candidate with knowledge of Clevertap wi...   \n",
       "3        9893    2-7 yrs                                                NaN   \n",
       "4       11848    3-8 yrs  Need candidates with experience in Natural lan...   \n",
       "\n",
       "                                           job_desig   job_type  \\\n",
       "0      HR Talent Analytics & Insights Senior Analyst  Analytics   \n",
       "1          Sr. Exploit and Vulnerability Researchers        NaN   \n",
       "2  Sr. Marketing Executive Opening @ Akbar Travel...        NaN   \n",
       "3         Financial Planning & Analysis -- Bangalore        NaN   \n",
       "4                          Con / AM - Data Scientist  Analytics   \n",
       "\n",
       "                                          key_skills                location  \\\n",
       "0  Consulting, Business process, Outsourcing, Min...                 Gurgaon   \n",
       "1  research analysis, machine learning, software ...         Bengaluru, Pune   \n",
       "2  marketing strategy, sales, market research, ca...  Mumbai(Mumbadevi Area)   \n",
       "3                        Financial Planning, Finance               Bengaluru   \n",
       "4  SAS, Statistical Modeling, SQL, Business Analy...               Bengaluru   \n",
       "\n",
       "   salary  company_name_encoded  \n",
       "0  10to15                   191  \n",
       "1  15to25                   520  \n",
       "2    3to6                   289  \n",
       "3   6to10                  4467  \n",
       "4  10to15                  3383  "
      ]
     },
     "execution_count": 3,
     "metadata": {},
     "output_type": "execute_result"
    }
   ],
   "source": [
    "df.head()"
   ]
  },
  {
   "cell_type": "markdown",
   "metadata": {},
   "source": [
    "Removing the \"Unnamed: 0\" columns as it does not make any sense and will not help us"
   ]
  },
  {
   "cell_type": "code",
   "execution_count": 4,
   "metadata": {},
   "outputs": [],
   "source": [
    "df=df.drop(columns=\"Unnamed: 0\")\n",
    "dft=dft.drop(columns=\"Unnamed: 0\")"
   ]
  },
  {
   "cell_type": "code",
   "execution_count": 5,
   "metadata": {},
   "outputs": [
    {
     "data": {
      "text/html": [
       "<div>\n",
       "<style scoped>\n",
       "    .dataframe tbody tr th:only-of-type {\n",
       "        vertical-align: middle;\n",
       "    }\n",
       "\n",
       "    .dataframe tbody tr th {\n",
       "        vertical-align: top;\n",
       "    }\n",
       "\n",
       "    .dataframe thead th {\n",
       "        text-align: right;\n",
       "    }\n",
       "</style>\n",
       "<table border=\"1\" class=\"dataframe\">\n",
       "  <thead>\n",
       "    <tr style=\"text-align: right;\">\n",
       "      <th></th>\n",
       "      <th>experience</th>\n",
       "      <th>job_description</th>\n",
       "      <th>job_desig</th>\n",
       "      <th>job_type</th>\n",
       "      <th>key_skills</th>\n",
       "      <th>location</th>\n",
       "      <th>salary</th>\n",
       "      <th>company_name_encoded</th>\n",
       "    </tr>\n",
       "  </thead>\n",
       "  <tbody>\n",
       "    <tr>\n",
       "      <th>0</th>\n",
       "      <td>4-8 yrs</td>\n",
       "      <td>Experience of over 4 years in Analytics domain...</td>\n",
       "      <td>HR Talent Analytics &amp; Insights Senior Analyst</td>\n",
       "      <td>Analytics</td>\n",
       "      <td>Consulting, Business process, Outsourcing, Min...</td>\n",
       "      <td>Gurgaon</td>\n",
       "      <td>10to15</td>\n",
       "      <td>191</td>\n",
       "    </tr>\n",
       "    <tr>\n",
       "      <th>1</th>\n",
       "      <td>4-8 yrs</td>\n",
       "      <td>Exploit and Vulnerability Researchers with the...</td>\n",
       "      <td>Sr. Exploit and Vulnerability Researchers</td>\n",
       "      <td>NaN</td>\n",
       "      <td>research analysis, machine learning, software ...</td>\n",
       "      <td>Bengaluru, Pune</td>\n",
       "      <td>15to25</td>\n",
       "      <td>520</td>\n",
       "    </tr>\n",
       "    <tr>\n",
       "      <th>2</th>\n",
       "      <td>2-5 yrs</td>\n",
       "      <td>Note: Candidate with knowledge of Clevertap wi...</td>\n",
       "      <td>Sr. Marketing Executive Opening @ Akbar Travel...</td>\n",
       "      <td>NaN</td>\n",
       "      <td>marketing strategy, sales, market research, ca...</td>\n",
       "      <td>Mumbai(Mumbadevi Area)</td>\n",
       "      <td>3to6</td>\n",
       "      <td>289</td>\n",
       "    </tr>\n",
       "    <tr>\n",
       "      <th>3</th>\n",
       "      <td>2-7 yrs</td>\n",
       "      <td>NaN</td>\n",
       "      <td>Financial Planning &amp; Analysis -- Bangalore</td>\n",
       "      <td>NaN</td>\n",
       "      <td>Financial Planning, Finance</td>\n",
       "      <td>Bengaluru</td>\n",
       "      <td>6to10</td>\n",
       "      <td>4467</td>\n",
       "    </tr>\n",
       "    <tr>\n",
       "      <th>4</th>\n",
       "      <td>3-8 yrs</td>\n",
       "      <td>Need candidates with experience in Natural lan...</td>\n",
       "      <td>Con / AM - Data Scientist</td>\n",
       "      <td>Analytics</td>\n",
       "      <td>SAS, Statistical Modeling, SQL, Business Analy...</td>\n",
       "      <td>Bengaluru</td>\n",
       "      <td>10to15</td>\n",
       "      <td>3383</td>\n",
       "    </tr>\n",
       "  </tbody>\n",
       "</table>\n",
       "</div>"
      ],
      "text/plain": [
       "  experience                                    job_description  \\\n",
       "0    4-8 yrs  Experience of over 4 years in Analytics domain...   \n",
       "1    4-8 yrs  Exploit and Vulnerability Researchers with the...   \n",
       "2    2-5 yrs  Note: Candidate with knowledge of Clevertap wi...   \n",
       "3    2-7 yrs                                                NaN   \n",
       "4    3-8 yrs  Need candidates with experience in Natural lan...   \n",
       "\n",
       "                                           job_desig   job_type  \\\n",
       "0      HR Talent Analytics & Insights Senior Analyst  Analytics   \n",
       "1          Sr. Exploit and Vulnerability Researchers        NaN   \n",
       "2  Sr. Marketing Executive Opening @ Akbar Travel...        NaN   \n",
       "3         Financial Planning & Analysis -- Bangalore        NaN   \n",
       "4                          Con / AM - Data Scientist  Analytics   \n",
       "\n",
       "                                          key_skills                location  \\\n",
       "0  Consulting, Business process, Outsourcing, Min...                 Gurgaon   \n",
       "1  research analysis, machine learning, software ...         Bengaluru, Pune   \n",
       "2  marketing strategy, sales, market research, ca...  Mumbai(Mumbadevi Area)   \n",
       "3                        Financial Planning, Finance               Bengaluru   \n",
       "4  SAS, Statistical Modeling, SQL, Business Analy...               Bengaluru   \n",
       "\n",
       "   salary  company_name_encoded  \n",
       "0  10to15                   191  \n",
       "1  15to25                   520  \n",
       "2    3to6                   289  \n",
       "3   6to10                  4467  \n",
       "4  10to15                  3383  "
      ]
     },
     "execution_count": 5,
     "metadata": {},
     "output_type": "execute_result"
    }
   ],
   "source": [
    "df.head()"
   ]
  },
  {
   "cell_type": "code",
   "execution_count": 8,
   "metadata": {},
   "outputs": [
    {
     "data": {
      "text/html": [
       "<div>\n",
       "<style scoped>\n",
       "    .dataframe tbody tr th:only-of-type {\n",
       "        vertical-align: middle;\n",
       "    }\n",
       "\n",
       "    .dataframe tbody tr th {\n",
       "        vertical-align: top;\n",
       "    }\n",
       "\n",
       "    .dataframe thead th {\n",
       "        text-align: right;\n",
       "    }\n",
       "</style>\n",
       "<table border=\"1\" class=\"dataframe\">\n",
       "  <thead>\n",
       "    <tr style=\"text-align: right;\">\n",
       "      <th></th>\n",
       "      <th>experience</th>\n",
       "      <th>job_description</th>\n",
       "      <th>job_desig</th>\n",
       "      <th>job_type</th>\n",
       "      <th>key_skills</th>\n",
       "      <th>location</th>\n",
       "      <th>company_name_encoded</th>\n",
       "    </tr>\n",
       "  </thead>\n",
       "  <tbody>\n",
       "    <tr>\n",
       "      <th>0</th>\n",
       "      <td>0-3 yrs</td>\n",
       "      <td>About Fototentia Diagnostics Private Limited :...</td>\n",
       "      <td>Project Manager/ Project Senior Engineer/ Proj...</td>\n",
       "      <td>NaN</td>\n",
       "      <td>Project Management, Quality Control, Quality A...</td>\n",
       "      <td>Mumbai</td>\n",
       "      <td>1574</td>\n",
       "    </tr>\n",
       "    <tr>\n",
       "      <th>1</th>\n",
       "      <td>4-8 yrs</td>\n",
       "      <td>With rich experience delivering digital transf...</td>\n",
       "      <td>Opportunity for OAF Developer (4-8 yrs)</td>\n",
       "      <td>NaN</td>\n",
       "      <td>plsql, interfaces, oracle apps, oracle workflo...</td>\n",
       "      <td>Chennai(Okkiyam Thuraipakkam)</td>\n",
       "      <td>541</td>\n",
       "    </tr>\n",
       "    <tr>\n",
       "      <th>2</th>\n",
       "      <td>15-20 yrs</td>\n",
       "      <td>Experience of a Customer Facing Role Pre sales...</td>\n",
       "      <td>Project Manager</td>\n",
       "      <td>NaN</td>\n",
       "      <td>Solutioning, Sales, Presales, Project Manageme...</td>\n",
       "      <td>Hyderabad</td>\n",
       "      <td>4370</td>\n",
       "    </tr>\n",
       "    <tr>\n",
       "      <th>3</th>\n",
       "      <td>3-6 yrs</td>\n",
       "      <td>- Experience selling subscription based licens...</td>\n",
       "      <td>Enterprise Sales Manager - Online Learning Pla...</td>\n",
       "      <td>NaN</td>\n",
       "      <td>Enterprise Sales, Business Development, Market...</td>\n",
       "      <td>Delhi</td>\n",
       "      <td>3931</td>\n",
       "    </tr>\n",
       "    <tr>\n",
       "      <th>4</th>\n",
       "      <td>2-5 yrs</td>\n",
       "      <td>Advanced Excel and MS access experience and ab...</td>\n",
       "      <td>Great Opportunity_advance Excel,macros, Pivot ...</td>\n",
       "      <td>NaN</td>\n",
       "      <td>Advanced Excel, SQL, VBA, Macros, MS Access, w...</td>\n",
       "      <td>Bengaluru</td>\n",
       "      <td>4893</td>\n",
       "    </tr>\n",
       "  </tbody>\n",
       "</table>\n",
       "</div>"
      ],
      "text/plain": [
       "  experience                                    job_description  \\\n",
       "0    0-3 yrs  About Fototentia Diagnostics Private Limited :...   \n",
       "1    4-8 yrs  With rich experience delivering digital transf...   \n",
       "2  15-20 yrs  Experience of a Customer Facing Role Pre sales...   \n",
       "3    3-6 yrs  - Experience selling subscription based licens...   \n",
       "4    2-5 yrs  Advanced Excel and MS access experience and ab...   \n",
       "\n",
       "                                           job_desig job_type  \\\n",
       "0  Project Manager/ Project Senior Engineer/ Proj...      NaN   \n",
       "1            Opportunity for OAF Developer (4-8 yrs)      NaN   \n",
       "2                                    Project Manager      NaN   \n",
       "3  Enterprise Sales Manager - Online Learning Pla...      NaN   \n",
       "4  Great Opportunity_advance Excel,macros, Pivot ...      NaN   \n",
       "\n",
       "                                          key_skills  \\\n",
       "0  Project Management, Quality Control, Quality A...   \n",
       "1  plsql, interfaces, oracle apps, oracle workflo...   \n",
       "2  Solutioning, Sales, Presales, Project Manageme...   \n",
       "3  Enterprise Sales, Business Development, Market...   \n",
       "4  Advanced Excel, SQL, VBA, Macros, MS Access, w...   \n",
       "\n",
       "                        location  company_name_encoded  \n",
       "0                         Mumbai                  1574  \n",
       "1  Chennai(Okkiyam Thuraipakkam)                   541  \n",
       "2                      Hyderabad                  4370  \n",
       "3                          Delhi                  3931  \n",
       "4                      Bengaluru                  4893  "
      ]
     },
     "execution_count": 8,
     "metadata": {},
     "output_type": "execute_result"
    }
   ],
   "source": [
    "dft.head()"
   ]
  },
  {
   "cell_type": "markdown",
   "metadata": {},
   "source": [
    "# Checking for null Values in the dataset:"
   ]
  },
  {
   "cell_type": "code",
   "execution_count": 9,
   "metadata": {},
   "outputs": [
    {
     "name": "stdout",
     "output_type": "stream",
     "text": [
      "<class 'pandas.core.frame.DataFrame'>\n",
      "RangeIndex: 15841 entries, 0 to 15840\n",
      "Data columns (total 8 columns):\n",
      "experience              15841 non-null object\n",
      "job_description         12261 non-null object\n",
      "job_desig               15841 non-null object\n",
      "job_type                3830 non-null object\n",
      "key_skills              15841 non-null object\n",
      "location                15841 non-null object\n",
      "salary                  15841 non-null object\n",
      "company_name_encoded    15841 non-null int64\n",
      "dtypes: int64(1), object(7)\n",
      "memory usage: 990.1+ KB\n"
     ]
    }
   ],
   "source": [
    "df.info()"
   ]
  },
  {
   "cell_type": "markdown",
   "metadata": {},
   "source": [
    "We see that \"job_description\" and \"job_type\" have have null entries."
   ]
  },
  {
   "cell_type": "code",
   "execution_count": 10,
   "metadata": {},
   "outputs": [
    {
     "data": {
      "text/plain": [
       "experience                  0\n",
       "job_description          3580\n",
       "job_desig                   0\n",
       "job_type                12011\n",
       "key_skills                  0\n",
       "location                    0\n",
       "salary                      0\n",
       "company_name_encoded        0\n",
       "dtype: int64"
      ]
     },
     "execution_count": 10,
     "metadata": {},
     "output_type": "execute_result"
    }
   ],
   "source": [
    "df.isnull().sum()"
   ]
  },
  {
   "cell_type": "code",
   "execution_count": 11,
   "metadata": {},
   "outputs": [
    {
     "data": {
      "text/plain": [
       "count                                                 12261\n",
       "unique                                                 7838\n",
       "top       Accenture Technology powers our clients busine...\n",
       "freq                                                    112\n",
       "Name: job_description, dtype: object"
      ]
     },
     "execution_count": 11,
     "metadata": {},
     "output_type": "execute_result"
    }
   ],
   "source": [
    "df.job_description.describe()"
   ]
  },
  {
   "cell_type": "code",
   "execution_count": 12,
   "metadata": {},
   "outputs": [
    {
     "data": {
      "text/plain": [
       "count                15841\n",
       "unique               10143\n",
       "top       Business Analyst\n",
       "freq                   120\n",
       "Name: job_desig, dtype: object"
      ]
     },
     "execution_count": 12,
     "metadata": {},
     "output_type": "execute_result"
    }
   ],
   "source": [
    "df.job_desig.describe()"
   ]
  },
  {
   "cell_type": "code",
   "execution_count": 13,
   "metadata": {},
   "outputs": [
    {
     "data": {
      "text/plain": [
       "count          3830\n",
       "unique            5\n",
       "top       Analytics\n",
       "freq           2990\n",
       "Name: job_type, dtype: object"
      ]
     },
     "execution_count": 13,
     "metadata": {},
     "output_type": "execute_result"
    }
   ],
   "source": [
    "df.job_type.describe()"
   ]
  },
  {
   "cell_type": "code",
   "execution_count": 14,
   "metadata": {},
   "outputs": [
    {
     "data": {
      "text/plain": [
       "Analytics    2990\n",
       "analytics     729\n",
       "ANALYTICS      67\n",
       "analytic       28\n",
       "Analytic       16\n",
       "Name: job_type, dtype: int64"
      ]
     },
     "execution_count": 14,
     "metadata": {},
     "output_type": "execute_result"
    }
   ],
   "source": [
    "df.job_type.value_counts()"
   ]
  },
  {
   "cell_type": "code",
   "execution_count": 15,
   "metadata": {},
   "outputs": [
    {
     "data": {
      "text/plain": [
       "count                                                 15841\n",
       "unique                                                11130\n",
       "top       part time, freelancing, data entry, present jo...\n",
       "freq                                                     65\n",
       "Name: key_skills, dtype: object"
      ]
     },
     "execution_count": 15,
     "metadata": {},
     "output_type": "execute_result"
    }
   ],
   "source": [
    "df.key_skills.describe()  "
   ]
  },
  {
   "cell_type": "code",
   "execution_count": 16,
   "metadata": {},
   "outputs": [
    {
     "data": {
      "text/plain": [
       "count    15841.000000\n",
       "mean      2377.291775\n",
       "std       1473.668458\n",
       "min          1.000000\n",
       "25%       1071.000000\n",
       "50%       2217.000000\n",
       "75%       3616.000000\n",
       "max       5034.000000\n",
       "Name: company_name_encoded, dtype: float64"
      ]
     },
     "execution_count": 16,
     "metadata": {},
     "output_type": "execute_result"
    }
   ],
   "source": [
    "df.company_name_encoded.describe()  "
   ]
  },
  {
   "cell_type": "code",
   "execution_count": 17,
   "metadata": {},
   "outputs": [
    {
     "data": {
      "text/plain": [
       "count         15841\n",
       "unique         1351\n",
       "top       Bengaluru\n",
       "freq           3313\n",
       "Name: location, dtype: object"
      ]
     },
     "execution_count": 17,
     "metadata": {},
     "output_type": "execute_result"
    }
   ],
   "source": [
    "df.location.describe()"
   ]
  },
  {
   "cell_type": "code",
   "execution_count": 18,
   "metadata": {},
   "outputs": [
    {
     "data": {
      "text/plain": [
       "10to15    3637\n",
       "15to25    3251\n",
       "6to10     2870\n",
       "0to3      2587\n",
       "3to6      2247\n",
       "25to50    1249\n",
       "Name: salary, dtype: int64"
      ]
     },
     "execution_count": 18,
     "metadata": {},
     "output_type": "execute_result"
    }
   ],
   "source": [
    "df.salary.value_counts()"
   ]
  },
  {
   "cell_type": "code",
   "execution_count": 89,
   "metadata": {},
   "outputs": [
    {
     "data": {
      "text/plain": [
       "1    3637\n",
       "2    3251\n",
       "5    2870\n",
       "0    2587\n",
       "4    2247\n",
       "3    1249\n",
       "Name: salary, dtype: int64"
      ]
     },
     "execution_count": 89,
     "metadata": {},
     "output_type": "execute_result"
    }
   ],
   "source": [
    "df.salary.value_counts()"
   ]
  },
  {
   "cell_type": "code",
   "execution_count": 19,
   "metadata": {},
   "outputs": [
    {
     "data": {
      "text/plain": [
       "count        15841\n",
       "unique         125\n",
       "top       5-10 yrs\n",
       "freq          1019\n",
       "Name: experience, dtype: object"
      ]
     },
     "execution_count": 19,
     "metadata": {},
     "output_type": "execute_result"
    }
   ],
   "source": [
    "df.experience.describe()"
   ]
  },
  {
   "cell_type": "code",
   "execution_count": 20,
   "metadata": {},
   "outputs": [
    {
     "data": {
      "text/plain": [
       "count    15841.000000\n",
       "mean      2377.291775\n",
       "std       1473.668458\n",
       "min          1.000000\n",
       "25%       1071.000000\n",
       "50%       2217.000000\n",
       "75%       3616.000000\n",
       "max       5034.000000\n",
       "Name: company_name_encoded, dtype: float64"
      ]
     },
     "execution_count": 20,
     "metadata": {},
     "output_type": "execute_result"
    }
   ],
   "source": [
    "df.company_name_encoded.describe()"
   ]
  },
  {
   "cell_type": "markdown",
   "metadata": {},
   "source": [
    "After analysing all the columns and target variable ..we will be droping this columns \"job_description\",\"job_desig\",\"job_type\" as they have the text values .so we will not be using these columns and also the dataset will not be having any null values"
   ]
  },
  {
   "cell_type": "code",
   "execution_count": 21,
   "metadata": {},
   "outputs": [],
   "source": [
    "df=df.drop(columns=[\"job_description\",\"job_desig\",\"job_type\"])\n",
    "dft=dft.drop(columns=[\"job_description\",\"job_desig\",\"job_type\"])"
   ]
  },
  {
   "cell_type": "markdown",
   "metadata": {},
   "source": [
    "-Here we have plotted count plot where we get to know the counts of the multiple classes we have in target variable “Salary”. \n",
    "-As it’s a real world data we see that data is imbalanced."
   ]
  },
  {
   "cell_type": "code",
   "execution_count": 22,
   "metadata": {},
   "outputs": [
    {
     "data": {
      "text/plain": [
       "<matplotlib.axes._subplots.AxesSubplot at 0x1de586d0208>"
      ]
     },
     "execution_count": 22,
     "metadata": {},
     "output_type": "execute_result"
    },
    {
     "data": {
      "text/plain": [
       "<Figure size 720x360 with 0 Axes>"
      ]
     },
     "metadata": {},
     "output_type": "display_data"
    },
    {
     "data": {
      "image/png": "[encoded data removed]",
      "text/plain": [
       "<Figure size 432x288 with 1 Axes>"
      ]
     },
     "metadata": {
      "needs_background": "light"
     },
     "output_type": "display_data"
    }
   ],
   "source": [
    "fig= plt.figure(figsize=(10,5))\n",
    "df.groupby(\"salary\").count().plot.bar()"
   ]
  },
  {
   "cell_type": "code",
   "execution_count": 23,
   "metadata": {},
   "outputs": [
    {
     "data": {
      "text/html": [
       "<div>\n",
       "<style scoped>\n",
       "    .dataframe tbody tr th:only-of-type {\n",
       "        vertical-align: middle;\n",
       "    }\n",
       "\n",
       "    .dataframe tbody tr th {\n",
       "        vertical-align: top;\n",
       "    }\n",
       "\n",
       "    .dataframe thead th {\n",
       "        text-align: right;\n",
       "    }\n",
       "</style>\n",
       "<table border=\"1\" class=\"dataframe\">\n",
       "  <thead>\n",
       "    <tr style=\"text-align: right;\">\n",
       "      <th></th>\n",
       "      <th>experience</th>\n",
       "      <th>key_skills</th>\n",
       "      <th>location</th>\n",
       "      <th>salary</th>\n",
       "      <th>company_name_encoded</th>\n",
       "    </tr>\n",
       "  </thead>\n",
       "  <tbody>\n",
       "    <tr>\n",
       "      <th>0</th>\n",
       "      <td>4-8 yrs</td>\n",
       "      <td>Consulting, Business process, Outsourcing, Min...</td>\n",
       "      <td>Gurgaon</td>\n",
       "      <td>10to15</td>\n",
       "      <td>191</td>\n",
       "    </tr>\n",
       "    <tr>\n",
       "      <th>1</th>\n",
       "      <td>4-8 yrs</td>\n",
       "      <td>research analysis, machine learning, software ...</td>\n",
       "      <td>Bengaluru, Pune</td>\n",
       "      <td>15to25</td>\n",
       "      <td>520</td>\n",
       "    </tr>\n",
       "    <tr>\n",
       "      <th>2</th>\n",
       "      <td>2-5 yrs</td>\n",
       "      <td>marketing strategy, sales, market research, ca...</td>\n",
       "      <td>Mumbai(Mumbadevi Area)</td>\n",
       "      <td>3to6</td>\n",
       "      <td>289</td>\n",
       "    </tr>\n",
       "    <tr>\n",
       "      <th>3</th>\n",
       "      <td>2-7 yrs</td>\n",
       "      <td>Financial Planning, Finance</td>\n",
       "      <td>Bengaluru</td>\n",
       "      <td>6to10</td>\n",
       "      <td>4467</td>\n",
       "    </tr>\n",
       "    <tr>\n",
       "      <th>4</th>\n",
       "      <td>3-8 yrs</td>\n",
       "      <td>SAS, Statistical Modeling, SQL, Business Analy...</td>\n",
       "      <td>Bengaluru</td>\n",
       "      <td>10to15</td>\n",
       "      <td>3383</td>\n",
       "    </tr>\n",
       "  </tbody>\n",
       "</table>\n",
       "</div>"
      ],
      "text/plain": [
       "  experience                                         key_skills  \\\n",
       "0    4-8 yrs  Consulting, Business process, Outsourcing, Min...   \n",
       "1    4-8 yrs  research analysis, machine learning, software ...   \n",
       "2    2-5 yrs  marketing strategy, sales, market research, ca...   \n",
       "3    2-7 yrs                        Financial Planning, Finance   \n",
       "4    3-8 yrs  SAS, Statistical Modeling, SQL, Business Analy...   \n",
       "\n",
       "                 location  salary  company_name_encoded  \n",
       "0                 Gurgaon  10to15                   191  \n",
       "1         Bengaluru, Pune  15to25                   520  \n",
       "2  Mumbai(Mumbadevi Area)    3to6                   289  \n",
       "3               Bengaluru   6to10                  4467  \n",
       "4               Bengaluru  10to15                  3383  "
      ]
     },
     "execution_count": 23,
     "metadata": {},
     "output_type": "execute_result"
    }
   ],
   "source": [
    "df.head()"
   ]
  },
  {
   "cell_type": "markdown",
   "metadata": {},
   "source": [
    "-We will now be splitting the “experience” columns in “Exp_low” and “Exp_high”. So that the machine will be able understand it better and drop the “experience” column."
   ]
  },
  {
   "cell_type": "code",
   "execution_count": 24,
   "metadata": {
    "scrolled": true
   },
   "outputs": [],
   "source": [
    "df[['Exp_low','Exp_high']] = df.experience.str.split(\"-\",expand=True)\n",
    "dft[['Exp_low','Exp_high']] = dft.experience.str.split(\"-\",expand=True)"
   ]
  },
  {
   "cell_type": "code",
   "execution_count": 25,
   "metadata": {
    "scrolled": true
   },
   "outputs": [],
   "source": [
    "df['Exp_high'] = df.Exp_high.str.split(\"yrs\",expand=True)\n",
    "dft['Exp_high'] = df.Exp_high.str.split(\"yrs\",expand=True)"
   ]
  },
  {
   "cell_type": "code",
   "execution_count": 26,
   "metadata": {},
   "outputs": [],
   "source": [
    "df=df.drop(columns=\"experience\")\n",
    "dft=dft.drop(columns=\"experience\")"
   ]
  },
  {
   "cell_type": "code",
   "execution_count": 27,
   "metadata": {},
   "outputs": [
    {
     "data": {
      "text/html": [
       "<div>\n",
       "<style scoped>\n",
       "    .dataframe tbody tr th:only-of-type {\n",
       "        vertical-align: middle;\n",
       "    }\n",
       "\n",
       "    .dataframe tbody tr th {\n",
       "        vertical-align: top;\n",
       "    }\n",
       "\n",
       "    .dataframe thead th {\n",
       "        text-align: right;\n",
       "    }\n",
       "</style>\n",
       "<table border=\"1\" class=\"dataframe\">\n",
       "  <thead>\n",
       "    <tr style=\"text-align: right;\">\n",
       "      <th></th>\n",
       "      <th>key_skills</th>\n",
       "      <th>location</th>\n",
       "      <th>salary</th>\n",
       "      <th>company_name_encoded</th>\n",
       "      <th>Exp_low</th>\n",
       "      <th>Exp_high</th>\n",
       "    </tr>\n",
       "  </thead>\n",
       "  <tbody>\n",
       "    <tr>\n",
       "      <th>0</th>\n",
       "      <td>Consulting, Business process, Outsourcing, Min...</td>\n",
       "      <td>Gurgaon</td>\n",
       "      <td>10to15</td>\n",
       "      <td>191</td>\n",
       "      <td>4</td>\n",
       "      <td>8</td>\n",
       "    </tr>\n",
       "    <tr>\n",
       "      <th>1</th>\n",
       "      <td>research analysis, machine learning, software ...</td>\n",
       "      <td>Bengaluru, Pune</td>\n",
       "      <td>15to25</td>\n",
       "      <td>520</td>\n",
       "      <td>4</td>\n",
       "      <td>8</td>\n",
       "    </tr>\n",
       "    <tr>\n",
       "      <th>2</th>\n",
       "      <td>marketing strategy, sales, market research, ca...</td>\n",
       "      <td>Mumbai(Mumbadevi Area)</td>\n",
       "      <td>3to6</td>\n",
       "      <td>289</td>\n",
       "      <td>2</td>\n",
       "      <td>5</td>\n",
       "    </tr>\n",
       "    <tr>\n",
       "      <th>3</th>\n",
       "      <td>Financial Planning, Finance</td>\n",
       "      <td>Bengaluru</td>\n",
       "      <td>6to10</td>\n",
       "      <td>4467</td>\n",
       "      <td>2</td>\n",
       "      <td>7</td>\n",
       "    </tr>\n",
       "    <tr>\n",
       "      <th>4</th>\n",
       "      <td>SAS, Statistical Modeling, SQL, Business Analy...</td>\n",
       "      <td>Bengaluru</td>\n",
       "      <td>10to15</td>\n",
       "      <td>3383</td>\n",
       "      <td>3</td>\n",
       "      <td>8</td>\n",
       "    </tr>\n",
       "  </tbody>\n",
       "</table>\n",
       "</div>"
      ],
      "text/plain": [
       "                                          key_skills                location  \\\n",
       "0  Consulting, Business process, Outsourcing, Min...                 Gurgaon   \n",
       "1  research analysis, machine learning, software ...         Bengaluru, Pune   \n",
       "2  marketing strategy, sales, market research, ca...  Mumbai(Mumbadevi Area)   \n",
       "3                        Financial Planning, Finance               Bengaluru   \n",
       "4  SAS, Statistical Modeling, SQL, Business Analy...               Bengaluru   \n",
       "\n",
       "   salary  company_name_encoded Exp_low Exp_high  \n",
       "0  10to15                   191       4       8   \n",
       "1  15to25                   520       4       8   \n",
       "2    3to6                   289       2       5   \n",
       "3   6to10                  4467       2       7   \n",
       "4  10to15                  3383       3       8   "
      ]
     },
     "execution_count": 27,
     "metadata": {},
     "output_type": "execute_result"
    }
   ],
   "source": [
    "df.head()"
   ]
  },
  {
   "cell_type": "markdown",
   "metadata": {},
   "source": [
    "As there are multiple skills in the each of the value in \"key_skills\" columns seperated by \",\".So to know the count of skills of each value we get max counts from the columns to further split the columns."
   ]
  },
  {
   "cell_type": "code",
   "execution_count": 28,
   "metadata": {},
   "outputs": [],
   "source": [
    "df['key_skill_len']=df.key_skills.apply(lambda x:len(x.split(\",\")))"
   ]
  },
  {
   "cell_type": "code",
   "execution_count": 29,
   "metadata": {},
   "outputs": [
    {
     "data": {
      "text/plain": [
       "12"
      ]
     },
     "execution_count": 29,
     "metadata": {},
     "output_type": "execute_result"
    }
   ],
   "source": [
    "df['key_skill_len'].max()"
   ]
  },
  {
   "cell_type": "code",
   "execution_count": 30,
   "metadata": {},
   "outputs": [
    {
     "data": {
      "text/html": [
       "<div>\n",
       "<style scoped>\n",
       "    .dataframe tbody tr th:only-of-type {\n",
       "        vertical-align: middle;\n",
       "    }\n",
       "\n",
       "    .dataframe tbody tr th {\n",
       "        vertical-align: top;\n",
       "    }\n",
       "\n",
       "    .dataframe thead th {\n",
       "        text-align: right;\n",
       "    }\n",
       "</style>\n",
       "<table border=\"1\" class=\"dataframe\">\n",
       "  <thead>\n",
       "    <tr style=\"text-align: right;\">\n",
       "      <th></th>\n",
       "      <th>key_skills</th>\n",
       "      <th>location</th>\n",
       "      <th>salary</th>\n",
       "      <th>company_name_encoded</th>\n",
       "      <th>Exp_low</th>\n",
       "      <th>Exp_high</th>\n",
       "      <th>key_skill_len</th>\n",
       "    </tr>\n",
       "  </thead>\n",
       "  <tbody>\n",
       "    <tr>\n",
       "      <th>0</th>\n",
       "      <td>Consulting, Business process, Outsourcing, Min...</td>\n",
       "      <td>Gurgaon</td>\n",
       "      <td>10to15</td>\n",
       "      <td>191</td>\n",
       "      <td>4</td>\n",
       "      <td>8</td>\n",
       "      <td>6</td>\n",
       "    </tr>\n",
       "    <tr>\n",
       "      <th>1</th>\n",
       "      <td>research analysis, machine learning, software ...</td>\n",
       "      <td>Bengaluru, Pune</td>\n",
       "      <td>15to25</td>\n",
       "      <td>520</td>\n",
       "      <td>4</td>\n",
       "      <td>8</td>\n",
       "      <td>3</td>\n",
       "    </tr>\n",
       "    <tr>\n",
       "      <th>2</th>\n",
       "      <td>marketing strategy, sales, market research, ca...</td>\n",
       "      <td>Mumbai(Mumbadevi Area)</td>\n",
       "      <td>3to6</td>\n",
       "      <td>289</td>\n",
       "      <td>2</td>\n",
       "      <td>5</td>\n",
       "      <td>5</td>\n",
       "    </tr>\n",
       "    <tr>\n",
       "      <th>3</th>\n",
       "      <td>Financial Planning, Finance</td>\n",
       "      <td>Bengaluru</td>\n",
       "      <td>6to10</td>\n",
       "      <td>4467</td>\n",
       "      <td>2</td>\n",
       "      <td>7</td>\n",
       "      <td>2</td>\n",
       "    </tr>\n",
       "    <tr>\n",
       "      <th>4</th>\n",
       "      <td>SAS, Statistical Modeling, SQL, Business Analy...</td>\n",
       "      <td>Bengaluru</td>\n",
       "      <td>10to15</td>\n",
       "      <td>3383</td>\n",
       "      <td>3</td>\n",
       "      <td>8</td>\n",
       "      <td>5</td>\n",
       "    </tr>\n",
       "  </tbody>\n",
       "</table>\n",
       "</div>"
      ],
      "text/plain": [
       "                                          key_skills                location  \\\n",
       "0  Consulting, Business process, Outsourcing, Min...                 Gurgaon   \n",
       "1  research analysis, machine learning, software ...         Bengaluru, Pune   \n",
       "2  marketing strategy, sales, market research, ca...  Mumbai(Mumbadevi Area)   \n",
       "3                        Financial Planning, Finance               Bengaluru   \n",
       "4  SAS, Statistical Modeling, SQL, Business Analy...               Bengaluru   \n",
       "\n",
       "   salary  company_name_encoded Exp_low Exp_high  key_skill_len  \n",
       "0  10to15                   191       4       8               6  \n",
       "1  15to25                   520       4       8               3  \n",
       "2    3to6                   289       2       5               5  \n",
       "3   6to10                  4467       2       7               2  \n",
       "4  10to15                  3383       3       8               5  "
      ]
     },
     "execution_count": 30,
     "metadata": {},
     "output_type": "execute_result"
    }
   ],
   "source": [
    "df.head()"
   ]
  },
  {
   "cell_type": "markdown",
   "metadata": {},
   "source": [
    "- After looking at the “key_skills” column we see that each entries has multiple skills separated by “,”. To make it better we will be splitting this entries to multiple columns as “key_skills1”, 2 and so on. And drop the “key_skills” columns after splitting."
   ]
  },
  {
   "cell_type": "code",
   "execution_count": 31,
   "metadata": {},
   "outputs": [],
   "source": [
    "df[['key_skills1',\"key_skills2\",\"key_skills3\",\"key_skills4\",\"key_skills5\",\"key_skills6\",\"key_skills7\",\"key_skills8\",\"key_skills9\",\"key_skills10\",\"key_skills11\",\"key_skills12\"]] = df.key_skills.str.split(\",\",expand=True)\n",
    "dft[['key_skills1',\"key_skills2\",\"key_skills3\",\"key_skills4\",\"key_skills5\",\"key_skills6\",\"key_skills7\",\"key_skills8\",\"key_skills9\",\"key_skills10\",\"key_skills11\",\"key_skills12\"]] = dft.key_skills.str.split(\",\",expand=True)"
   ]
  },
  {
   "cell_type": "code",
   "execution_count": 32,
   "metadata": {},
   "outputs": [
    {
     "data": {
      "text/html": [
       "<div>\n",
       "<style scoped>\n",
       "    .dataframe tbody tr th:only-of-type {\n",
       "        vertical-align: middle;\n",
       "    }\n",
       "\n",
       "    .dataframe tbody tr th {\n",
       "        vertical-align: top;\n",
       "    }\n",
       "\n",
       "    .dataframe thead th {\n",
       "        text-align: right;\n",
       "    }\n",
       "</style>\n",
       "<table border=\"1\" class=\"dataframe\">\n",
       "  <thead>\n",
       "    <tr style=\"text-align: right;\">\n",
       "      <th></th>\n",
       "      <th>key_skills</th>\n",
       "      <th>location</th>\n",
       "      <th>salary</th>\n",
       "      <th>company_name_encoded</th>\n",
       "      <th>Exp_low</th>\n",
       "      <th>Exp_high</th>\n",
       "      <th>key_skill_len</th>\n",
       "      <th>key_skills1</th>\n",
       "      <th>key_skills2</th>\n",
       "      <th>key_skills3</th>\n",
       "      <th>key_skills4</th>\n",
       "      <th>key_skills5</th>\n",
       "      <th>key_skills6</th>\n",
       "      <th>key_skills7</th>\n",
       "      <th>key_skills8</th>\n",
       "      <th>key_skills9</th>\n",
       "      <th>key_skills10</th>\n",
       "      <th>key_skills11</th>\n",
       "      <th>key_skills12</th>\n",
       "    </tr>\n",
       "  </thead>\n",
       "  <tbody>\n",
       "    <tr>\n",
       "      <th>0</th>\n",
       "      <td>Consulting, Business process, Outsourcing, Min...</td>\n",
       "      <td>Gurgaon</td>\n",
       "      <td>10to15</td>\n",
       "      <td>191</td>\n",
       "      <td>4</td>\n",
       "      <td>8</td>\n",
       "      <td>6</td>\n",
       "      <td>Consulting</td>\n",
       "      <td>Business process</td>\n",
       "      <td>Outsourcing</td>\n",
       "      <td>Mining</td>\n",
       "      <td>QlikView</td>\n",
       "      <td>Python...</td>\n",
       "      <td>None</td>\n",
       "      <td>None</td>\n",
       "      <td>None</td>\n",
       "      <td>None</td>\n",
       "      <td>None</td>\n",
       "      <td>None</td>\n",
       "    </tr>\n",
       "    <tr>\n",
       "      <th>1</th>\n",
       "      <td>research analysis, machine learning, software ...</td>\n",
       "      <td>Bengaluru, Pune</td>\n",
       "      <td>15to25</td>\n",
       "      <td>520</td>\n",
       "      <td>4</td>\n",
       "      <td>8</td>\n",
       "      <td>3</td>\n",
       "      <td>research analysis</td>\n",
       "      <td>machine learning</td>\n",
       "      <td>software development...</td>\n",
       "      <td>None</td>\n",
       "      <td>None</td>\n",
       "      <td>None</td>\n",
       "      <td>None</td>\n",
       "      <td>None</td>\n",
       "      <td>None</td>\n",
       "      <td>None</td>\n",
       "      <td>None</td>\n",
       "      <td>None</td>\n",
       "    </tr>\n",
       "    <tr>\n",
       "      <th>2</th>\n",
       "      <td>marketing strategy, sales, market research, ca...</td>\n",
       "      <td>Mumbai(Mumbadevi Area)</td>\n",
       "      <td>3to6</td>\n",
       "      <td>289</td>\n",
       "      <td>2</td>\n",
       "      <td>5</td>\n",
       "      <td>5</td>\n",
       "      <td>marketing strategy</td>\n",
       "      <td>sales</td>\n",
       "      <td>market research</td>\n",
       "      <td>campaigns</td>\n",
       "      <td>marketing automation...</td>\n",
       "      <td>None</td>\n",
       "      <td>None</td>\n",
       "      <td>None</td>\n",
       "      <td>None</td>\n",
       "      <td>None</td>\n",
       "      <td>None</td>\n",
       "      <td>None</td>\n",
       "    </tr>\n",
       "    <tr>\n",
       "      <th>3</th>\n",
       "      <td>Financial Planning, Finance</td>\n",
       "      <td>Bengaluru</td>\n",
       "      <td>6to10</td>\n",
       "      <td>4467</td>\n",
       "      <td>2</td>\n",
       "      <td>7</td>\n",
       "      <td>2</td>\n",
       "      <td>Financial Planning</td>\n",
       "      <td>Finance</td>\n",
       "      <td>None</td>\n",
       "      <td>None</td>\n",
       "      <td>None</td>\n",
       "      <td>None</td>\n",
       "      <td>None</td>\n",
       "      <td>None</td>\n",
       "      <td>None</td>\n",
       "      <td>None</td>\n",
       "      <td>None</td>\n",
       "      <td>None</td>\n",
       "    </tr>\n",
       "    <tr>\n",
       "      <th>4</th>\n",
       "      <td>SAS, Statistical Modeling, SQL, Business Analy...</td>\n",
       "      <td>Bengaluru</td>\n",
       "      <td>10to15</td>\n",
       "      <td>3383</td>\n",
       "      <td>3</td>\n",
       "      <td>8</td>\n",
       "      <td>5</td>\n",
       "      <td>SAS</td>\n",
       "      <td>Statistical Modeling</td>\n",
       "      <td>SQL</td>\n",
       "      <td>Business Analytics</td>\n",
       "      <td>Statistical Analysis...</td>\n",
       "      <td>None</td>\n",
       "      <td>None</td>\n",
       "      <td>None</td>\n",
       "      <td>None</td>\n",
       "      <td>None</td>\n",
       "      <td>None</td>\n",
       "      <td>None</td>\n",
       "    </tr>\n",
       "  </tbody>\n",
       "</table>\n",
       "</div>"
      ],
      "text/plain": [
       "                                          key_skills                location  \\\n",
       "0  Consulting, Business process, Outsourcing, Min...                 Gurgaon   \n",
       "1  research analysis, machine learning, software ...         Bengaluru, Pune   \n",
       "2  marketing strategy, sales, market research, ca...  Mumbai(Mumbadevi Area)   \n",
       "3                        Financial Planning, Finance               Bengaluru   \n",
       "4  SAS, Statistical Modeling, SQL, Business Analy...               Bengaluru   \n",
       "\n",
       "   salary  company_name_encoded Exp_low Exp_high  key_skill_len  \\\n",
       "0  10to15                   191       4       8               6   \n",
       "1  15to25                   520       4       8               3   \n",
       "2    3to6                   289       2       5               5   \n",
       "3   6to10                  4467       2       7               2   \n",
       "4  10to15                  3383       3       8               5   \n",
       "\n",
       "          key_skills1            key_skills2               key_skills3  \\\n",
       "0          Consulting       Business process               Outsourcing   \n",
       "1   research analysis       machine learning   software development...   \n",
       "2  marketing strategy                  sales           market research   \n",
       "3  Financial Planning                Finance                      None   \n",
       "4                 SAS   Statistical Modeling                       SQL   \n",
       "\n",
       "           key_skills4               key_skills5 key_skills6 key_skills7  \\\n",
       "0               Mining                  QlikView   Python...        None   \n",
       "1                 None                      None        None        None   \n",
       "2            campaigns   marketing automation...        None        None   \n",
       "3                 None                      None        None        None   \n",
       "4   Business Analytics   Statistical Analysis...        None        None   \n",
       "\n",
       "  key_skills8 key_skills9 key_skills10 key_skills11 key_skills12  \n",
       "0        None        None         None         None         None  \n",
       "1        None        None         None         None         None  \n",
       "2        None        None         None         None         None  \n",
       "3        None        None         None         None         None  \n",
       "4        None        None         None         None         None  "
      ]
     },
     "execution_count": 32,
     "metadata": {},
     "output_type": "execute_result"
    }
   ],
   "source": [
    "df.head()"
   ]
  },
  {
   "cell_type": "code",
   "execution_count": 33,
   "metadata": {},
   "outputs": [
    {
     "data": {
      "text/plain": [
       "...            11\n",
       " MHRD...        3\n",
       " mca...         2\n",
       " AWS            2\n",
       " Avro...        2\n",
       " MR...          2\n",
       " HDFS...        1\n",
       " Storm...       1\n",
       " content...     1\n",
       "Name: key_skills11, dtype: int64"
      ]
     },
     "execution_count": 33,
     "metadata": {},
     "output_type": "execute_result"
    }
   ],
   "source": [
    "df.key_skills11.value_counts()"
   ]
  },
  {
   "cell_type": "markdown",
   "metadata": {},
   "source": [
    "# Cleaning the data:"
   ]
  },
  {
   "cell_type": "markdown",
   "metadata": {},
   "source": [
    "We will be cleaning the unwanted noise data  like \"...\" and filling the empty cells with \"None\" "
   ]
  },
  {
   "cell_type": "code",
   "execution_count": 34,
   "metadata": {
    "scrolled": true
   },
   "outputs": [],
   "source": [
    "cols = ['key_skills1',\"key_skills2\",\"key_skills3\",\"key_skills4\",\"key_skills5\",\"key_skills6\",\"key_skills7\",\"key_skills8\",\"key_skills9\",\"key_skills10\",\"key_skills11\",\"key_skills12\"]\n",
    "for col in cols:\n",
    "    df[col] = df[col].map(lambda x: str(x).lstrip('...').rstrip('...'))"
   ]
  },
  {
   "cell_type": "code",
   "execution_count": 35,
   "metadata": {},
   "outputs": [],
   "source": [
    "cols = ['key_skills1',\"key_skills2\",\"key_skills3\",\"key_skills4\",\"key_skills5\",\"key_skills6\",\"key_skills7\",\"key_skills8\",\"key_skills9\",\"key_skills10\",\"key_skills11\",\"key_skills12\"]\n",
    "for col in cols:\n",
    "    dft[col] = dft[col].map(lambda x: str(x).lstrip('...').rstrip('...'))"
   ]
  },
  {
   "cell_type": "code",
   "execution_count": 36,
   "metadata": {},
   "outputs": [
    {
     "data": {
      "text/plain": [
       "None        15816\n",
       "               11\n",
       " MHRD           3\n",
       " mca            2\n",
       " AWS            2\n",
       " Avro           2\n",
       " MR             2\n",
       " HDFS           1\n",
       " content        1\n",
       " Storm          1\n",
       "Name: key_skills11, dtype: int64"
      ]
     },
     "execution_count": 36,
     "metadata": {},
     "output_type": "execute_result"
    }
   ],
   "source": [
    "df.key_skills11.value_counts()"
   ]
  },
  {
   "cell_type": "code",
   "execution_count": 37,
   "metadata": {},
   "outputs": [],
   "source": [
    "nan_value = \"None\"\n",
    "df.replace(\"\", nan_value, inplace=True)"
   ]
  },
  {
   "cell_type": "code",
   "execution_count": 38,
   "metadata": {},
   "outputs": [],
   "source": [
    "nan_value = \"None\"\n",
    "dft.replace(\"\", nan_value, inplace=True)"
   ]
  },
  {
   "cell_type": "code",
   "execution_count": 39,
   "metadata": {},
   "outputs": [
    {
     "data": {
      "text/html": [
       "<div>\n",
       "<style scoped>\n",
       "    .dataframe tbody tr th:only-of-type {\n",
       "        vertical-align: middle;\n",
       "    }\n",
       "\n",
       "    .dataframe tbody tr th {\n",
       "        vertical-align: top;\n",
       "    }\n",
       "\n",
       "    .dataframe thead th {\n",
       "        text-align: right;\n",
       "    }\n",
       "</style>\n",
       "<table border=\"1\" class=\"dataframe\">\n",
       "  <thead>\n",
       "    <tr style=\"text-align: right;\">\n",
       "      <th></th>\n",
       "      <th>key_skills</th>\n",
       "      <th>location</th>\n",
       "      <th>salary</th>\n",
       "      <th>company_name_encoded</th>\n",
       "      <th>Exp_low</th>\n",
       "      <th>Exp_high</th>\n",
       "      <th>key_skill_len</th>\n",
       "      <th>key_skills1</th>\n",
       "      <th>key_skills2</th>\n",
       "      <th>key_skills3</th>\n",
       "      <th>key_skills4</th>\n",
       "      <th>key_skills5</th>\n",
       "      <th>key_skills6</th>\n",
       "      <th>key_skills7</th>\n",
       "      <th>key_skills8</th>\n",
       "      <th>key_skills9</th>\n",
       "      <th>key_skills10</th>\n",
       "      <th>key_skills11</th>\n",
       "      <th>key_skills12</th>\n",
       "    </tr>\n",
       "  </thead>\n",
       "  <tbody>\n",
       "    <tr>\n",
       "      <th>0</th>\n",
       "      <td>Consulting, Business process, Outsourcing, Min...</td>\n",
       "      <td>Gurgaon</td>\n",
       "      <td>10to15</td>\n",
       "      <td>191</td>\n",
       "      <td>4</td>\n",
       "      <td>8</td>\n",
       "      <td>6</td>\n",
       "      <td>Consulting</td>\n",
       "      <td>Business process</td>\n",
       "      <td>Outsourcing</td>\n",
       "      <td>Mining</td>\n",
       "      <td>QlikView</td>\n",
       "      <td>Python</td>\n",
       "      <td>None</td>\n",
       "      <td>None</td>\n",
       "      <td>None</td>\n",
       "      <td>None</td>\n",
       "      <td>None</td>\n",
       "      <td>None</td>\n",
       "    </tr>\n",
       "    <tr>\n",
       "      <th>1</th>\n",
       "      <td>research analysis, machine learning, software ...</td>\n",
       "      <td>Bengaluru, Pune</td>\n",
       "      <td>15to25</td>\n",
       "      <td>520</td>\n",
       "      <td>4</td>\n",
       "      <td>8</td>\n",
       "      <td>3</td>\n",
       "      <td>research analysis</td>\n",
       "      <td>machine learning</td>\n",
       "      <td>software development</td>\n",
       "      <td>None</td>\n",
       "      <td>None</td>\n",
       "      <td>None</td>\n",
       "      <td>None</td>\n",
       "      <td>None</td>\n",
       "      <td>None</td>\n",
       "      <td>None</td>\n",
       "      <td>None</td>\n",
       "      <td>None</td>\n",
       "    </tr>\n",
       "  </tbody>\n",
       "</table>\n",
       "</div>"
      ],
      "text/plain": [
       "                                          key_skills         location  salary  \\\n",
       "0  Consulting, Business process, Outsourcing, Min...          Gurgaon  10to15   \n",
       "1  research analysis, machine learning, software ...  Bengaluru, Pune  15to25   \n",
       "\n",
       "   company_name_encoded Exp_low Exp_high  key_skill_len        key_skills1  \\\n",
       "0                   191       4       8               6         Consulting   \n",
       "1                   520       4       8               3  research analysis   \n",
       "\n",
       "         key_skills2            key_skills3 key_skills4 key_skills5  \\\n",
       "0   Business process            Outsourcing      Mining    QlikView   \n",
       "1   machine learning   software development        None        None   \n",
       "\n",
       "  key_skills6 key_skills7 key_skills8 key_skills9 key_skills10 key_skills11  \\\n",
       "0      Python        None        None        None         None         None   \n",
       "1        None        None        None        None         None         None   \n",
       "\n",
       "  key_skills12  \n",
       "0         None  \n",
       "1         None  "
      ]
     },
     "execution_count": 39,
     "metadata": {},
     "output_type": "execute_result"
    }
   ],
   "source": [
    "df.head(2)"
   ]
  },
  {
   "cell_type": "code",
   "execution_count": 40,
   "metadata": {
    "scrolled": true
   },
   "outputs": [],
   "source": [
    "df=df.drop(columns=\"key_skills\")\n",
    "dft=dft.drop(columns=\"key_skills\")"
   ]
  },
  {
   "cell_type": "code",
   "execution_count": 41,
   "metadata": {},
   "outputs": [
    {
     "data": {
      "text/html": [
       "<div>\n",
       "<style scoped>\n",
       "    .dataframe tbody tr th:only-of-type {\n",
       "        vertical-align: middle;\n",
       "    }\n",
       "\n",
       "    .dataframe tbody tr th {\n",
       "        vertical-align: top;\n",
       "    }\n",
       "\n",
       "    .dataframe thead th {\n",
       "        text-align: right;\n",
       "    }\n",
       "</style>\n",
       "<table border=\"1\" class=\"dataframe\">\n",
       "  <thead>\n",
       "    <tr style=\"text-align: right;\">\n",
       "      <th></th>\n",
       "      <th>location</th>\n",
       "      <th>salary</th>\n",
       "      <th>company_name_encoded</th>\n",
       "      <th>Exp_low</th>\n",
       "      <th>Exp_high</th>\n",
       "      <th>key_skill_len</th>\n",
       "      <th>key_skills1</th>\n",
       "      <th>key_skills2</th>\n",
       "      <th>key_skills3</th>\n",
       "      <th>key_skills4</th>\n",
       "      <th>key_skills5</th>\n",
       "      <th>key_skills6</th>\n",
       "      <th>key_skills7</th>\n",
       "      <th>key_skills8</th>\n",
       "      <th>key_skills9</th>\n",
       "      <th>key_skills10</th>\n",
       "      <th>key_skills11</th>\n",
       "      <th>key_skills12</th>\n",
       "    </tr>\n",
       "  </thead>\n",
       "  <tbody>\n",
       "    <tr>\n",
       "      <th>0</th>\n",
       "      <td>Gurgaon</td>\n",
       "      <td>10to15</td>\n",
       "      <td>191</td>\n",
       "      <td>4</td>\n",
       "      <td>8</td>\n",
       "      <td>6</td>\n",
       "      <td>Consulting</td>\n",
       "      <td>Business process</td>\n",
       "      <td>Outsourcing</td>\n",
       "      <td>Mining</td>\n",
       "      <td>QlikView</td>\n",
       "      <td>Python</td>\n",
       "      <td>None</td>\n",
       "      <td>None</td>\n",
       "      <td>None</td>\n",
       "      <td>None</td>\n",
       "      <td>None</td>\n",
       "      <td>None</td>\n",
       "    </tr>\n",
       "    <tr>\n",
       "      <th>1</th>\n",
       "      <td>Bengaluru, Pune</td>\n",
       "      <td>15to25</td>\n",
       "      <td>520</td>\n",
       "      <td>4</td>\n",
       "      <td>8</td>\n",
       "      <td>3</td>\n",
       "      <td>research analysis</td>\n",
       "      <td>machine learning</td>\n",
       "      <td>software development</td>\n",
       "      <td>None</td>\n",
       "      <td>None</td>\n",
       "      <td>None</td>\n",
       "      <td>None</td>\n",
       "      <td>None</td>\n",
       "      <td>None</td>\n",
       "      <td>None</td>\n",
       "      <td>None</td>\n",
       "      <td>None</td>\n",
       "    </tr>\n",
       "  </tbody>\n",
       "</table>\n",
       "</div>"
      ],
      "text/plain": [
       "          location  salary  company_name_encoded Exp_low Exp_high  \\\n",
       "0          Gurgaon  10to15                   191       4       8    \n",
       "1  Bengaluru, Pune  15to25                   520       4       8    \n",
       "\n",
       "   key_skill_len        key_skills1        key_skills2            key_skills3  \\\n",
       "0              6         Consulting   Business process            Outsourcing   \n",
       "1              3  research analysis   machine learning   software development   \n",
       "\n",
       "  key_skills4 key_skills5 key_skills6 key_skills7 key_skills8 key_skills9  \\\n",
       "0      Mining    QlikView      Python        None        None        None   \n",
       "1        None        None        None        None        None        None   \n",
       "\n",
       "  key_skills10 key_skills11 key_skills12  \n",
       "0         None         None         None  \n",
       "1         None         None         None  "
      ]
     },
     "execution_count": 41,
     "metadata": {},
     "output_type": "execute_result"
    }
   ],
   "source": [
    "df.head(2)"
   ]
  },
  {
   "cell_type": "code",
   "execution_count": 42,
   "metadata": {},
   "outputs": [],
   "source": [
    "# will be droping the col as the will not be helpfull now ...\n",
    "df=df.drop(columns=[\"key_skill_len\",\"key_skills12\"]) \n",
    "dft=dft.drop(columns=[\"key_skills12\"]) "
   ]
  },
  {
   "cell_type": "code",
   "execution_count": 43,
   "metadata": {
    "scrolled": true
   },
   "outputs": [
    {
     "data": {
      "text/html": [
       "<div>\n",
       "<style scoped>\n",
       "    .dataframe tbody tr th:only-of-type {\n",
       "        vertical-align: middle;\n",
       "    }\n",
       "\n",
       "    .dataframe tbody tr th {\n",
       "        vertical-align: top;\n",
       "    }\n",
       "\n",
       "    .dataframe thead th {\n",
       "        text-align: right;\n",
       "    }\n",
       "</style>\n",
       "<table border=\"1\" class=\"dataframe\">\n",
       "  <thead>\n",
       "    <tr style=\"text-align: right;\">\n",
       "      <th></th>\n",
       "      <th>location</th>\n",
       "      <th>salary</th>\n",
       "      <th>company_name_encoded</th>\n",
       "      <th>Exp_low</th>\n",
       "      <th>Exp_high</th>\n",
       "      <th>key_skills1</th>\n",
       "      <th>key_skills2</th>\n",
       "      <th>key_skills3</th>\n",
       "      <th>key_skills4</th>\n",
       "      <th>key_skills5</th>\n",
       "      <th>key_skills6</th>\n",
       "      <th>key_skills7</th>\n",
       "      <th>key_skills8</th>\n",
       "      <th>key_skills9</th>\n",
       "      <th>key_skills10</th>\n",
       "      <th>key_skills11</th>\n",
       "    </tr>\n",
       "  </thead>\n",
       "  <tbody>\n",
       "    <tr>\n",
       "      <th>0</th>\n",
       "      <td>Gurgaon</td>\n",
       "      <td>10to15</td>\n",
       "      <td>191</td>\n",
       "      <td>4</td>\n",
       "      <td>8</td>\n",
       "      <td>Consulting</td>\n",
       "      <td>Business process</td>\n",
       "      <td>Outsourcing</td>\n",
       "      <td>Mining</td>\n",
       "      <td>QlikView</td>\n",
       "      <td>Python</td>\n",
       "      <td>None</td>\n",
       "      <td>None</td>\n",
       "      <td>None</td>\n",
       "      <td>None</td>\n",
       "      <td>None</td>\n",
       "    </tr>\n",
       "    <tr>\n",
       "      <th>1</th>\n",
       "      <td>Bengaluru, Pune</td>\n",
       "      <td>15to25</td>\n",
       "      <td>520</td>\n",
       "      <td>4</td>\n",
       "      <td>8</td>\n",
       "      <td>research analysis</td>\n",
       "      <td>machine learning</td>\n",
       "      <td>software development</td>\n",
       "      <td>None</td>\n",
       "      <td>None</td>\n",
       "      <td>None</td>\n",
       "      <td>None</td>\n",
       "      <td>None</td>\n",
       "      <td>None</td>\n",
       "      <td>None</td>\n",
       "      <td>None</td>\n",
       "    </tr>\n",
       "  </tbody>\n",
       "</table>\n",
       "</div>"
      ],
      "text/plain": [
       "          location  salary  company_name_encoded Exp_low Exp_high  \\\n",
       "0          Gurgaon  10to15                   191       4       8    \n",
       "1  Bengaluru, Pune  15to25                   520       4       8    \n",
       "\n",
       "         key_skills1        key_skills2            key_skills3 key_skills4  \\\n",
       "0         Consulting   Business process            Outsourcing      Mining   \n",
       "1  research analysis   machine learning   software development        None   \n",
       "\n",
       "  key_skills5 key_skills6 key_skills7 key_skills8 key_skills9 key_skills10  \\\n",
       "0    QlikView      Python        None        None        None         None   \n",
       "1        None        None        None        None        None         None   \n",
       "\n",
       "  key_skills11  \n",
       "0         None  \n",
       "1         None  "
      ]
     },
     "execution_count": 43,
     "metadata": {},
     "output_type": "execute_result"
    }
   ],
   "source": [
    "df.head(2)"
   ]
  },
  {
   "cell_type": "markdown",
   "metadata": {},
   "source": [
    "# Converting the data into suitable format by using LabelEncoder \n",
    "We will be transform all the columns using label encoding technique which help the machine to predict better"
   ]
  },
  {
   "cell_type": "code",
   "execution_count": 44,
   "metadata": {},
   "outputs": [],
   "source": [
    "from sklearn.preprocessing import LabelEncoder"
   ]
  },
  {
   "cell_type": "code",
   "execution_count": 45,
   "metadata": {},
   "outputs": [],
   "source": [
    "lb= LabelEncoder()"
   ]
  },
  {
   "cell_type": "code",
   "execution_count": 46,
   "metadata": {},
   "outputs": [],
   "source": [
    "df[\"salary\"]=lb.fit_transform(df[\"salary\"])"
   ]
  },
  {
   "cell_type": "code",
   "execution_count": 47,
   "metadata": {},
   "outputs": [],
   "source": [
    "cols = ['key_skills1',\"key_skills2\",\"key_skills3\",\"key_skills4\",\"key_skills5\",\"key_skills6\",\"key_skills7\",\"key_skills8\",\"key_skills9\",\"key_skills10\",\"key_skills11\"]\n",
    "for i in cols:\n",
    "    df[i]=lb.fit_transform(df[i])"
   ]
  },
  {
   "cell_type": "code",
   "execution_count": 48,
   "metadata": {},
   "outputs": [],
   "source": [
    "cols = ['key_skills1',\"key_skills2\",\"key_skills3\",\"key_skills4\",\"key_skills5\",\"key_skills6\",\"key_skills7\",\"key_skills8\",\"key_skills9\",\"key_skills10\",\"key_skills11\"]\n",
    "for i in cols:\n",
    "    dft[i]=lb.fit_transform(dft[i])"
   ]
  },
  {
   "cell_type": "code",
   "execution_count": 49,
   "metadata": {},
   "outputs": [
    {
     "data": {
      "text/plain": [
       "array(['Gurgaon', 'Bengaluru, Pune', 'Mumbai(Mumbadevi Area)', ...,\n",
       "       'Bengaluru', 'Saudi Arabia', 'Bengaluru, Chennai'], dtype=object)"
      ]
     },
     "execution_count": 49,
     "metadata": {},
     "output_type": "execute_result"
    }
   ],
   "source": [
    "location = np.append(df['location'].values, dft['location'].values, axis=0)\n",
    "location"
   ]
  },
  {
   "cell_type": "code",
   "execution_count": 50,
   "metadata": {},
   "outputs": [
    {
     "data": {
      "text/plain": [
       "(19802,)"
      ]
     },
     "execution_count": 50,
     "metadata": {},
     "output_type": "execute_result"
    }
   ],
   "source": [
    "location.shape"
   ]
  },
  {
   "cell_type": "code",
   "execution_count": 51,
   "metadata": {},
   "outputs": [],
   "source": [
    "lb=LabelEncoder()\n",
    "lb.fit(list(set(location)))\n",
    "df['location']=lb.transform(df['location'])\n",
    "dft['location']=lb.transform(dft['location'])"
   ]
  },
  {
   "cell_type": "code",
   "execution_count": 52,
   "metadata": {},
   "outputs": [],
   "source": [
    "total_comp_encod = np.append(df['company_name_encoded'].values, dft['company_name_encoded'].values, axis=0)\n",
    "lb.fit(list(set(total_comp_encod)))\n",
    "df['company_name_encoded']=lb.transform(df['company_name_encoded'])\n",
    "dft['company_name_encoded']=lb.transform(dft['company_name_encoded'])"
   ]
  },
  {
   "cell_type": "code",
   "execution_count": 53,
   "metadata": {},
   "outputs": [
    {
     "data": {
      "text/plain": [
       "Index(['location', 'salary', 'company_name_encoded', 'Exp_low', 'Exp_high',\n",
       "       'key_skills1', 'key_skills2', 'key_skills3', 'key_skills4',\n",
       "       'key_skills5', 'key_skills6', 'key_skills7', 'key_skills8',\n",
       "       'key_skills9', 'key_skills10', 'key_skills11'],\n",
       "      dtype='object')"
      ]
     },
     "execution_count": 53,
     "metadata": {},
     "output_type": "execute_result"
    }
   ],
   "source": [
    "df.columns"
   ]
  },
  {
   "cell_type": "code",
   "execution_count": 54,
   "metadata": {
    "scrolled": true
   },
   "outputs": [
    {
     "data": {
      "text/html": [
       "<div>\n",
       "<style scoped>\n",
       "    .dataframe tbody tr th:only-of-type {\n",
       "        vertical-align: middle;\n",
       "    }\n",
       "\n",
       "    .dataframe tbody tr th {\n",
       "        vertical-align: top;\n",
       "    }\n",
       "\n",
       "    .dataframe thead th {\n",
       "        text-align: right;\n",
       "    }\n",
       "</style>\n",
       "<table border=\"1\" class=\"dataframe\">\n",
       "  <thead>\n",
       "    <tr style=\"text-align: right;\">\n",
       "      <th></th>\n",
       "      <th>location</th>\n",
       "      <th>salary</th>\n",
       "      <th>company_name_encoded</th>\n",
       "      <th>Exp_low</th>\n",
       "      <th>Exp_high</th>\n",
       "      <th>key_skills1</th>\n",
       "      <th>key_skills2</th>\n",
       "      <th>key_skills3</th>\n",
       "      <th>key_skills4</th>\n",
       "      <th>key_skills5</th>\n",
       "      <th>key_skills6</th>\n",
       "      <th>key_skills7</th>\n",
       "      <th>key_skills8</th>\n",
       "      <th>key_skills9</th>\n",
       "      <th>key_skills10</th>\n",
       "      <th>key_skills11</th>\n",
       "    </tr>\n",
       "  </thead>\n",
       "  <tbody>\n",
       "    <tr>\n",
       "      <th>0</th>\n",
       "      <td>811</td>\n",
       "      <td>1</td>\n",
       "      <td>191</td>\n",
       "      <td>4</td>\n",
       "      <td>8</td>\n",
       "      <td>450</td>\n",
       "      <td>309</td>\n",
       "      <td>1563</td>\n",
       "      <td>1339</td>\n",
       "      <td>1325</td>\n",
       "      <td>791</td>\n",
       "      <td>981</td>\n",
       "      <td>506</td>\n",
       "      <td>228</td>\n",
       "      <td>95</td>\n",
       "      <td>8</td>\n",
       "    </tr>\n",
       "    <tr>\n",
       "      <th>1</th>\n",
       "      <td>337</td>\n",
       "      <td>2</td>\n",
       "      <td>520</td>\n",
       "      <td>4</td>\n",
       "      <td>8</td>\n",
       "      <td>3288</td>\n",
       "      <td>3231</td>\n",
       "      <td>4084</td>\n",
       "      <td>4076</td>\n",
       "      <td>3066</td>\n",
       "      <td>1818</td>\n",
       "      <td>981</td>\n",
       "      <td>506</td>\n",
       "      <td>228</td>\n",
       "      <td>95</td>\n",
       "      <td>8</td>\n",
       "    </tr>\n",
       "    <tr>\n",
       "      <th>2</th>\n",
       "      <td>1077</td>\n",
       "      <td>4</td>\n",
       "      <td>289</td>\n",
       "      <td>2</td>\n",
       "      <td>5</td>\n",
       "      <td>2984</td>\n",
       "      <td>3702</td>\n",
       "      <td>3471</td>\n",
       "      <td>2610</td>\n",
       "      <td>2489</td>\n",
       "      <td>1818</td>\n",
       "      <td>981</td>\n",
       "      <td>506</td>\n",
       "      <td>228</td>\n",
       "      <td>95</td>\n",
       "      <td>8</td>\n",
       "    </tr>\n",
       "    <tr>\n",
       "      <th>3</th>\n",
       "      <td>114</td>\n",
       "      <td>5</td>\n",
       "      <td>4467</td>\n",
       "      <td>2</td>\n",
       "      <td>7</td>\n",
       "      <td>759</td>\n",
       "      <td>791</td>\n",
       "      <td>4390</td>\n",
       "      <td>4076</td>\n",
       "      <td>3066</td>\n",
       "      <td>1818</td>\n",
       "      <td>981</td>\n",
       "      <td>506</td>\n",
       "      <td>228</td>\n",
       "      <td>95</td>\n",
       "      <td>8</td>\n",
       "    </tr>\n",
       "    <tr>\n",
       "      <th>4</th>\n",
       "      <td>114</td>\n",
       "      <td>1</td>\n",
       "      <td>3383</td>\n",
       "      <td>3</td>\n",
       "      <td>8</td>\n",
       "      <td>1731</td>\n",
       "      <td>2032</td>\n",
       "      <td>1989</td>\n",
       "      <td>271</td>\n",
       "      <td>1610</td>\n",
       "      <td>1818</td>\n",
       "      <td>981</td>\n",
       "      <td>506</td>\n",
       "      <td>228</td>\n",
       "      <td>95</td>\n",
       "      <td>8</td>\n",
       "    </tr>\n",
       "  </tbody>\n",
       "</table>\n",
       "</div>"
      ],
      "text/plain": [
       "   location  salary  company_name_encoded Exp_low Exp_high  key_skills1  \\\n",
       "0       811       1                   191       4       8           450   \n",
       "1       337       2                   520       4       8          3288   \n",
       "2      1077       4                   289       2       5          2984   \n",
       "3       114       5                  4467       2       7           759   \n",
       "4       114       1                  3383       3       8          1731   \n",
       "\n",
       "   key_skills2  key_skills3  key_skills4  key_skills5  key_skills6  \\\n",
       "0          309         1563         1339         1325          791   \n",
       "1         3231         4084         4076         3066         1818   \n",
       "2         3702         3471         2610         2489         1818   \n",
       "3          791         4390         4076         3066         1818   \n",
       "4         2032         1989          271         1610         1818   \n",
       "\n",
       "   key_skills7  key_skills8  key_skills9  key_skills10  key_skills11  \n",
       "0          981          506          228            95             8  \n",
       "1          981          506          228            95             8  \n",
       "2          981          506          228            95             8  \n",
       "3          981          506          228            95             8  \n",
       "4          981          506          228            95             8  "
      ]
     },
     "execution_count": 54,
     "metadata": {},
     "output_type": "execute_result"
    }
   ],
   "source": [
    "df.head()"
   ]
  },
  {
   "cell_type": "markdown",
   "metadata": {},
   "source": [
    "# Building The models "
   ]
  },
  {
   "cell_type": "code",
   "execution_count": 55,
   "metadata": {},
   "outputs": [],
   "source": [
    "x = df[['location','company_name_encoded', 'Exp_low', 'Exp_high',\n",
    "       'key_skills1', 'key_skills2', 'key_skills3', 'key_skills4',\n",
    "       'key_skills5', 'key_skills6', 'key_skills7', 'key_skills8',\n",
    "       'key_skills9', 'key_skills10', 'key_skills11']]\n",
    "y = df['salary']"
   ]
  },
  {
   "cell_type": "code",
   "execution_count": 56,
   "metadata": {},
   "outputs": [
    {
     "data": {
      "text/plain": [
       "(15841,)"
      ]
     },
     "execution_count": 56,
     "metadata": {},
     "output_type": "execute_result"
    }
   ],
   "source": [
    "x.shape\n",
    "y.shape"
   ]
  },
  {
   "cell_type": "markdown",
   "metadata": {},
   "source": [
    "# Train Test Split of the Training dataset"
   ]
  },
  {
   "cell_type": "code",
   "execution_count": 57,
   "metadata": {},
   "outputs": [],
   "source": [
    "from sklearn.model_selection import train_test_split"
   ]
  },
  {
   "cell_type": "code",
   "execution_count": 58,
   "metadata": {},
   "outputs": [],
   "source": [
    "x_train,x_test,y_train,y_test = train_test_split(x,y,test_size=0.3,random_state = 0)"
   ]
  },
  {
   "cell_type": "code",
   "execution_count": 59,
   "metadata": {},
   "outputs": [
    {
     "data": {
      "text/plain": [
       "((11088, 15), (4753, 15))"
      ]
     },
     "execution_count": 59,
     "metadata": {},
     "output_type": "execute_result"
    }
   ],
   "source": [
    "x_train.shape , x_test.shape"
   ]
  },
  {
   "cell_type": "code",
   "execution_count": 60,
   "metadata": {},
   "outputs": [
    {
     "data": {
      "text/plain": [
       "((11088,), (4753,))"
      ]
     },
     "execution_count": 60,
     "metadata": {},
     "output_type": "execute_result"
    }
   ],
   "source": [
    "y_train.shape , y_test.shape"
   ]
  },
  {
   "cell_type": "markdown",
   "metadata": {},
   "source": [
    "# Logistic Regression Model"
   ]
  },
  {
   "cell_type": "code",
   "execution_count": 61,
   "metadata": {},
   "outputs": [],
   "source": [
    "from sklearn.linear_model import LogisticRegression\n",
    "log = LogisticRegression()"
   ]
  },
  {
   "cell_type": "code",
   "execution_count": 62,
   "metadata": {},
   "outputs": [
    {
     "name": "stderr",
     "output_type": "stream",
     "text": [
      "C:\\Users\\HP\\Anaconda3\\lib\\site-packages\\sklearn\\linear_model\\logistic.py:432: FutureWarning: Default solver will be changed to 'lbfgs' in 0.22. Specify a solver to silence this warning.\n",
      "  FutureWarning)\n",
      "C:\\Users\\HP\\Anaconda3\\lib\\site-packages\\sklearn\\linear_model\\logistic.py:469: FutureWarning: Default multi_class will be changed to 'auto' in 0.22. Specify the multi_class option to silence this warning.\n",
      "  \"this warning.\", FutureWarning)\n"
     ]
    },
    {
     "data": {
      "text/plain": [
       "LogisticRegression(C=1.0, class_weight=None, dual=False, fit_intercept=True,\n",
       "                   intercept_scaling=1, l1_ratio=None, max_iter=100,\n",
       "                   multi_class='warn', n_jobs=None, penalty='l2',\n",
       "                   random_state=None, solver='warn', tol=0.0001, verbose=0,\n",
       "                   warm_start=False)"
      ]
     },
     "execution_count": 62,
     "metadata": {},
     "output_type": "execute_result"
    }
   ],
   "source": [
    "log.fit(x_train,y_train)"
   ]
  },
  {
   "cell_type": "code",
   "execution_count": 63,
   "metadata": {},
   "outputs": [],
   "source": [
    "y_predtest =log.predict(x_test)"
   ]
  },
  {
   "cell_type": "markdown",
   "metadata": {},
   "source": [
    "# Evaluating the metrics of the Logistic regression model"
   ]
  },
  {
   "cell_type": "code",
   "execution_count": 65,
   "metadata": {
    "scrolled": true
   },
   "outputs": [
    {
     "name": "stdout",
     "output_type": "stream",
     "text": [
      "0.39006942983378917\n"
     ]
    }
   ],
   "source": [
    "from sklearn.metrics import accuracy_score\n",
    "print(accuracy_score(y_test,y_predtest))"
   ]
  },
  {
   "cell_type": "code",
   "execution_count": 66,
   "metadata": {},
   "outputs": [
    {
     "name": "stdout",
     "output_type": "stream",
     "text": [
      "Confusion matrix:\n",
      " [[602  74  17   0  49  48]\n",
      " [123 496 317  12  14 109]\n",
      " [ 56 373 455  31   2  59]\n",
      " [  4  56 223  46   1  15]\n",
      " [294 162  26   2  64 112]\n",
      " [194 372 108   3  43 191]]\n"
     ]
    }
   ],
   "source": [
    "from sklearn.metrics import confusion_matrix \n",
    "print('Confusion matrix:\\n', confusion_matrix(y_test, y_predtest))"
   ]
  },
  {
   "cell_type": "code",
   "execution_count": 67,
   "metadata": {},
   "outputs": [
    {
     "name": "stdout",
     "output_type": "stream",
     "text": [
      "              precision    recall  f1-score   support\n",
      "\n",
      "           0       0.47      0.76      0.58       790\n",
      "           1       0.32      0.46      0.38      1071\n",
      "           2       0.40      0.47      0.43       976\n",
      "           3       0.49      0.13      0.21       345\n",
      "           4       0.37      0.10      0.15       660\n",
      "           5       0.36      0.21      0.26       911\n",
      "\n",
      "    accuracy                           0.39      4753\n",
      "   macro avg       0.40      0.36      0.34      4753\n",
      "weighted avg       0.39      0.39      0.36      4753\n",
      "\n"
     ]
    }
   ],
   "source": [
    "from sklearn.metrics import classification_report\n",
    "print(classification_report(y_test, y_predtest))"
   ]
  },
  {
   "cell_type": "code",
   "execution_count": 69,
   "metadata": {},
   "outputs": [
    {
     "name": "stderr",
     "output_type": "stream",
     "text": [
      "C:\\Users\\HP\\Anaconda3\\lib\\site-packages\\sklearn\\linear_model\\logistic.py:432: FutureWarning: Default solver will be changed to 'lbfgs' in 0.22. Specify a solver to silence this warning.\n",
      "  FutureWarning)\n",
      "C:\\Users\\HP\\Anaconda3\\lib\\site-packages\\sklearn\\linear_model\\logistic.py:469: FutureWarning: Default multi_class will be changed to 'auto' in 0.22. Specify the multi_class option to silence this warning.\n",
      "  \"this warning.\", FutureWarning)\n",
      "C:\\Users\\HP\\Anaconda3\\lib\\site-packages\\sklearn\\linear_model\\logistic.py:432: FutureWarning: Default solver will be changed to 'lbfgs' in 0.22. Specify a solver to silence this warning.\n",
      "  FutureWarning)\n",
      "C:\\Users\\HP\\Anaconda3\\lib\\site-packages\\sklearn\\linear_model\\logistic.py:469: FutureWarning: Default multi_class will be changed to 'auto' in 0.22. Specify the multi_class option to silence this warning.\n",
      "  \"this warning.\", FutureWarning)\n",
      "C:\\Users\\HP\\Anaconda3\\lib\\site-packages\\sklearn\\linear_model\\logistic.py:432: FutureWarning: Default solver will be changed to 'lbfgs' in 0.22. Specify a solver to silence this warning.\n",
      "  FutureWarning)\n",
      "C:\\Users\\HP\\Anaconda3\\lib\\site-packages\\sklearn\\linear_model\\logistic.py:469: FutureWarning: Default multi_class will be changed to 'auto' in 0.22. Specify the multi_class option to silence this warning.\n",
      "  \"this warning.\", FutureWarning)\n",
      "C:\\Users\\HP\\Anaconda3\\lib\\site-packages\\sklearn\\linear_model\\logistic.py:432: FutureWarning: Default solver will be changed to 'lbfgs' in 0.22. Specify a solver to silence this warning.\n",
      "  FutureWarning)\n",
      "C:\\Users\\HP\\Anaconda3\\lib\\site-packages\\sklearn\\linear_model\\logistic.py:469: FutureWarning: Default multi_class will be changed to 'auto' in 0.22. Specify the multi_class option to silence this warning.\n",
      "  \"this warning.\", FutureWarning)\n",
      "C:\\Users\\HP\\Anaconda3\\lib\\site-packages\\sklearn\\linear_model\\logistic.py:432: FutureWarning: Default solver will be changed to 'lbfgs' in 0.22. Specify a solver to silence this warning.\n",
      "  FutureWarning)\n",
      "C:\\Users\\HP\\Anaconda3\\lib\\site-packages\\sklearn\\linear_model\\logistic.py:469: FutureWarning: Default multi_class will be changed to 'auto' in 0.22. Specify the multi_class option to silence this warning.\n",
      "  \"this warning.\", FutureWarning)\n",
      "C:\\Users\\HP\\Anaconda3\\lib\\site-packages\\sklearn\\linear_model\\logistic.py:432: FutureWarning: Default solver will be changed to 'lbfgs' in 0.22. Specify a solver to silence this warning.\n",
      "  FutureWarning)\n",
      "C:\\Users\\HP\\Anaconda3\\lib\\site-packages\\sklearn\\linear_model\\logistic.py:469: FutureWarning: Default multi_class will be changed to 'auto' in 0.22. Specify the multi_class option to silence this warning.\n",
      "  \"this warning.\", FutureWarning)\n"
     ]
    }
   ],
   "source": [
    "from sklearn.model_selection import cross_val_score\n",
    "scores = cross_val_score(log,x_train, y_train, cv=6)"
   ]
  },
  {
   "cell_type": "code",
   "execution_count": 70,
   "metadata": {},
   "outputs": [
    {
     "data": {
      "text/plain": [
       "0.38419820144486216"
      ]
     },
     "execution_count": 70,
     "metadata": {},
     "output_type": "execute_result"
    }
   ],
   "source": [
    "scores.mean()"
   ]
  },
  {
   "cell_type": "markdown",
   "metadata": {},
   "source": [
    "# Random Forest Model"
   ]
  },
  {
   "cell_type": "code",
   "execution_count": 71,
   "metadata": {},
   "outputs": [],
   "source": [
    "from sklearn.ensemble import RandomForestClassifier\n",
    "rft=RandomForestClassifier(n_estimators=200)\n",
    "rft.fit(x_train, y_train)\n",
    "rftpred=rft.predict(x_test)"
   ]
  },
  {
   "cell_type": "markdown",
   "metadata": {},
   "source": [
    "# Evaluating the metrics of the Random Forest model"
   ]
  },
  {
   "cell_type": "code",
   "execution_count": 72,
   "metadata": {},
   "outputs": [
    {
     "name": "stdout",
     "output_type": "stream",
     "text": [
      "0.38480959394066905\n"
     ]
    }
   ],
   "source": [
    " print(accuracy_score(y_test,rftpred))"
   ]
  },
  {
   "cell_type": "code",
   "execution_count": 74,
   "metadata": {},
   "outputs": [
    {
     "name": "stdout",
     "output_type": "stream",
     "text": [
      "Confusion matrix_test:\n",
      " [[530  51  16   3 123  67]\n",
      " [ 48 401 348  29  62 183]\n",
      " [ 22 355 367 119  27  86]\n",
      " [  2  26 140 165   3   9]\n",
      " [226  86  27   2 153 166]\n",
      " [ 99 292 152   7 148 213]]\n"
     ]
    }
   ],
   "source": [
    "from sklearn.metrics import accuracy_score, confusion_matrix \n",
    "print('Confusion matrix_test:\\n', confusion_matrix(y_test, rftpred))"
   ]
  },
  {
   "cell_type": "code",
   "execution_count": 76,
   "metadata": {},
   "outputs": [
    {
     "name": "stdout",
     "output_type": "stream",
     "text": [
      "              precision    recall  f1-score   support\n",
      "\n",
      "           0       0.57      0.67      0.62       790\n",
      "           1       0.33      0.37      0.35      1071\n",
      "           2       0.35      0.38      0.36       976\n",
      "           3       0.51      0.48      0.49       345\n",
      "           4       0.30      0.23      0.26       660\n",
      "           5       0.29      0.23      0.26       911\n",
      "\n",
      "    accuracy                           0.38      4753\n",
      "   macro avg       0.39      0.39      0.39      4753\n",
      "weighted avg       0.38      0.38      0.38      4753\n",
      "\n"
     ]
    }
   ],
   "source": [
    "from sklearn.metrics import classification_report\n",
    "print(classification_report(y_test, rftpred))"
   ]
  },
  {
   "cell_type": "markdown",
   "metadata": {},
   "source": [
    "# LinearSVC model"
   ]
  },
  {
   "cell_type": "code",
   "execution_count": 81,
   "metadata": {},
   "outputs": [],
   "source": [
    "from sklearn.svm import LinearSVC"
   ]
  },
  {
   "cell_type": "code",
   "execution_count": 82,
   "metadata": {},
   "outputs": [
    {
     "name": "stderr",
     "output_type": "stream",
     "text": [
      "C:\\Users\\HP\\Anaconda3\\lib\\site-packages\\sklearn\\svm\\base.py:929: ConvergenceWarning: Liblinear failed to converge, increase the number of iterations.\n",
      "  \"the number of iterations.\", ConvergenceWarning)\n"
     ]
    }
   ],
   "source": [
    "SVC = LinearSVC()\n",
    "SVC.fit(x_train, y_train)\n",
    "y_pred_SVC = SVC.predict(x_test)"
   ]
  },
  {
   "cell_type": "markdown",
   "metadata": {},
   "source": [
    "# Evaluating the metrics of the LinearSVC model¶"
   ]
  },
  {
   "cell_type": "code",
   "execution_count": 83,
   "metadata": {},
   "outputs": [
    {
     "name": "stdout",
     "output_type": "stream",
     "text": [
      "0.24468756574794867\n"
     ]
    }
   ],
   "source": [
    " print(accuracy_score(y_test,y_pred_SVC))"
   ]
  },
  {
   "cell_type": "code",
   "execution_count": 84,
   "metadata": {},
   "outputs": [
    {
     "name": "stdout",
     "output_type": "stream",
     "text": [
      "Confusion matrix_test:\n",
      " [[ 18 230 398   0 129  15]\n",
      " [  0 270 720   0  69  12]\n",
      " [  0 240 704   1  26   5]\n",
      " [  0  66 272   1   6   0]\n",
      " [  2 184 312   0 133  29]\n",
      " [  2 224 507   0 141  37]]\n"
     ]
    }
   ],
   "source": [
    "from sklearn.metrics import confusion_matrix \n",
    "print('Confusion matrix_test:\\n', confusion_matrix(y_test, y_pred_SVC))"
   ]
  },
  {
   "cell_type": "code",
   "execution_count": 85,
   "metadata": {},
   "outputs": [
    {
     "name": "stdout",
     "output_type": "stream",
     "text": [
      "              precision    recall  f1-score   support\n",
      "\n",
      "           0       0.82      0.02      0.04       790\n",
      "           1       0.22      0.25      0.24      1071\n",
      "           2       0.24      0.72      0.36       976\n",
      "           3       0.50      0.00      0.01       345\n",
      "           4       0.26      0.20      0.23       660\n",
      "           5       0.38      0.04      0.07       911\n",
      "\n",
      "    accuracy                           0.24      4753\n",
      "   macro avg       0.40      0.21      0.16      4753\n",
      "weighted avg       0.38      0.24      0.18      4753\n",
      "\n"
     ]
    }
   ],
   "source": [
    "print(classification_report(y_test, y_pred_SVC))"
   ]
  },
  {
   "cell_type": "markdown",
   "metadata": {},
   "source": [
    "After comparing all the models we see that logistic regression show good results than all..So we will using this model for predicting on text dataset"
   ]
  },
  {
   "cell_type": "markdown",
   "metadata": {},
   "source": [
    "# Saving Prediction of test dataset to csv file"
   ]
  },
  {
   "cell_type": "code",
   "execution_count": 86,
   "metadata": {},
   "outputs": [
    {
     "data": {
      "text/plain": [
       "Index(['location', 'company_name_encoded', 'Exp_low', 'Exp_high',\n",
       "       'key_skills1', 'key_skills2', 'key_skills3', 'key_skills4',\n",
       "       'key_skills5', 'key_skills6', 'key_skills7', 'key_skills8',\n",
       "       'key_skills9', 'key_skills10', 'key_skills11'],\n",
       "      dtype='object')"
      ]
     },
     "execution_count": 86,
     "metadata": {},
     "output_type": "execute_result"
    }
   ],
   "source": [
    "dft.columns"
   ]
  },
  {
   "cell_type": "code",
   "execution_count": 87,
   "metadata": {},
   "outputs": [],
   "source": [
    "X = dft.iloc[:, :15].values\n",
    "y_predtest =log.predict(X)"
   ]
  },
  {
   "cell_type": "code",
   "execution_count": 88,
   "metadata": {},
   "outputs": [
    {
     "data": {
      "text/plain": [
       "array([2, 2, 3, ..., 2, 1, 1])"
      ]
     },
     "execution_count": 88,
     "metadata": {},
     "output_type": "execute_result"
    }
   ],
   "source": [
    "y_predtest"
   ]
  },
  {
   "cell_type": "code",
   "execution_count": 90,
   "metadata": {},
   "outputs": [],
   "source": [
    "file=pd.DataFrame({'company_name_encoded':dft.company_name_encoded,'salary':y_predtest})\n",
    "file.salary.replace(0,'0to3',inplace=True)\n",
    "file.salary.replace(1,'10to15',inplace=True)\n",
    "file.salary.replace(2,'15to25',inplace=True)\n",
    "file.salary.replace(3,'25to50',inplace=True)\n",
    "file.salary.replace(4,'3to6',inplace=True)\n",
    "file.salary.replace(5,'6to10',inplace=True)"
   ]
  },
  {
   "cell_type": "code",
   "execution_count": 92,
   "metadata": {},
   "outputs": [
    {
     "data": {
      "text/html": [
       "<div>\n",
       "<style scoped>\n",
       "    .dataframe tbody tr th:only-of-type {\n",
       "        vertical-align: middle;\n",
       "    }\n",
       "\n",
       "    .dataframe tbody tr th {\n",
       "        vertical-align: top;\n",
       "    }\n",
       "\n",
       "    .dataframe thead th {\n",
       "        text-align: right;\n",
       "    }\n",
       "</style>\n",
       "<table border=\"1\" class=\"dataframe\">\n",
       "  <thead>\n",
       "    <tr style=\"text-align: right;\">\n",
       "      <th></th>\n",
       "      <th>company_name_encoded</th>\n",
       "      <th>salary</th>\n",
       "    </tr>\n",
       "  </thead>\n",
       "  <tbody>\n",
       "    <tr>\n",
       "      <th>0</th>\n",
       "      <td>1574</td>\n",
       "      <td>15to25</td>\n",
       "    </tr>\n",
       "    <tr>\n",
       "      <th>1</th>\n",
       "      <td>541</td>\n",
       "      <td>15to25</td>\n",
       "    </tr>\n",
       "    <tr>\n",
       "      <th>2</th>\n",
       "      <td>4370</td>\n",
       "      <td>25to50</td>\n",
       "    </tr>\n",
       "    <tr>\n",
       "      <th>3</th>\n",
       "      <td>3931</td>\n",
       "      <td>15to25</td>\n",
       "    </tr>\n",
       "    <tr>\n",
       "      <th>4</th>\n",
       "      <td>4893</td>\n",
       "      <td>15to25</td>\n",
       "    </tr>\n",
       "  </tbody>\n",
       "</table>\n",
       "</div>"
      ],
      "text/plain": [
       "   company_name_encoded  salary\n",
       "0                  1574  15to25\n",
       "1                   541  15to25\n",
       "2                  4370  25to50\n",
       "3                  3931  15to25\n",
       "4                  4893  15to25"
      ]
     },
     "execution_count": 92,
     "metadata": {},
     "output_type": "execute_result"
    }
   ],
   "source": [
    "file.head()"
   ]
  },
  {
   "cell_type": "code",
   "execution_count": 93,
   "metadata": {},
   "outputs": [],
   "source": [
    "file.head()\n",
    "file.to_csv('submissionDSnew.csv',index=False)"
   ]
  },
  {
   "cell_type": "code",
   "execution_count": null,
   "metadata": {},
   "outputs": [],
   "source": []
  }
 ],
 "metadata": {
  "kernelspec": {
   "display_name": "Python 3",
   "language": "python",
   "name": "python3"
  },
  "language_info": {
   "codemirror_mode": {
    "name": "ipython",
    "version": 3
   },
   "file_extension": ".py",
   "mimetype": "text/x-python",
   "name": "python",
   "nbconvert_exporter": "python",
   "pygments_lexer": "ipython3",
   "version": "3.7.3"
  }
 },
 "nbformat": 4,
 "nbformat_minor": 2
}
